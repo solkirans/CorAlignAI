{
 "cells": [
  {
   "cell_type": "code",
   "execution_count": 1,
   "id": "e5b29446-e5e7-4823-831f-37157a0b6abc",
   "metadata": {},
   "outputs": [],
   "source": [
    "import numpy as np\n",
    "import matplotlib.pyplot as plt\n",
    "from matplotlib.colors import LinearSegmentedColormap\n",
    "import tkinter as tk\n",
    "from tkinter import ttk\n",
    "\n"
   ]
  },
  {
   "cell_type": "code",
   "execution_count": 1,
   "id": "93509575-0153-48e0-bbad-646e4881e4fc",
   "metadata": {},
   "outputs": [
    {
     "ename": "TclError",
     "evalue": "invalid command name \".!frame.!canvas.!frame.!labelframe.!scale\"",
     "output_type": "error",
     "traceback": [
      "\u001b[1;31m---------------------------------------------------------------------------\u001b[0m",
      "\u001b[1;31mTclError\u001b[0m                                  Traceback (most recent call last)",
      "Cell \u001b[1;32mIn[1], line 3\u001b[0m\n\u001b[0;32m      1\u001b[0m \u001b[38;5;28;01mfrom\u001b[39;00m \u001b[38;5;21;01mposture_assessment\u001b[39;00m \u001b[38;5;28;01mimport\u001b[39;00m PostureAssessment\n\u001b[0;32m      2\u001b[0m assessment \u001b[38;5;241m=\u001b[39m PostureAssessment()\n\u001b[1;32m----> 3\u001b[0m assessment\u001b[38;5;241m.\u001b[39mrun_assessment()\n",
      "File \u001b[1;32m~\\CoreAlignAI\\posture_assessment.py:219\u001b[0m, in \u001b[0;36mPostureAssessment.run_assessment\u001b[1;34m(self)\u001b[0m\n\u001b[0;32m    218\u001b[0m \u001b[38;5;28;01mdef\u001b[39;00m \u001b[38;5;21mrun_assessment\u001b[39m(\u001b[38;5;28mself\u001b[39m):\n\u001b[1;32m--> 219\u001b[0m     \u001b[38;5;28mself\u001b[39m\u001b[38;5;241m.\u001b[39mask_questions()\n\u001b[0;32m    220\u001b[0m     \u001b[38;5;28mself\u001b[39m\u001b[38;5;241m.\u001b[39manalyze_muscles()\n\u001b[0;32m    221\u001b[0m     \u001b[38;5;28mself\u001b[39m\u001b[38;5;241m.\u001b[39mvisualize_results()\n",
      "File \u001b[1;32m~\\CoreAlignAI\\posture_assessment.py:108\u001b[0m, in \u001b[0;36mPostureAssessment.ask_questions\u001b[1;34m(self)\u001b[0m\n\u001b[0;32m    106\u001b[0m \u001b[38;5;66;03m# Get final values\u001b[39;00m\n\u001b[0;32m    107\u001b[0m \u001b[38;5;28;01mfor\u001b[39;00m key \u001b[38;5;129;01min\u001b[39;00m \u001b[38;5;28mself\u001b[39m\u001b[38;5;241m.\u001b[39mresponses:\n\u001b[1;32m--> 108\u001b[0m     \u001b[38;5;28mself\u001b[39m\u001b[38;5;241m.\u001b[39mresponses[key] \u001b[38;5;241m=\u001b[39m \u001b[38;5;28mself\u001b[39m\u001b[38;5;241m.\u001b[39mresponses[key]\u001b[38;5;241m.\u001b[39mget()\n\u001b[0;32m    110\u001b[0m root\u001b[38;5;241m.\u001b[39mdestroy()\n",
      "File \u001b[1;32m~\\.conda\\envs\\CoreAI\\Lib\\tkinter\\ttk.py:1074\u001b[0m, in \u001b[0;36mScale.get\u001b[1;34m(self, x, y)\u001b[0m\n\u001b[0;32m   1068\u001b[0m \u001b[38;5;28;01mdef\u001b[39;00m \u001b[38;5;21mget\u001b[39m(\u001b[38;5;28mself\u001b[39m, x\u001b[38;5;241m=\u001b[39m\u001b[38;5;28;01mNone\u001b[39;00m, y\u001b[38;5;241m=\u001b[39m\u001b[38;5;28;01mNone\u001b[39;00m):\n\u001b[0;32m   1069\u001b[0m \u001b[38;5;250m    \u001b[39m\u001b[38;5;124;03m\"\"\"Get the current value of the value option, or the value\u001b[39;00m\n\u001b[0;32m   1070\u001b[0m \u001b[38;5;124;03m    corresponding to the coordinates x, y if they are specified.\u001b[39;00m\n\u001b[0;32m   1071\u001b[0m \n\u001b[0;32m   1072\u001b[0m \u001b[38;5;124;03m    x and y are pixel coordinates relative to the scale widget\u001b[39;00m\n\u001b[0;32m   1073\u001b[0m \u001b[38;5;124;03m    origin.\"\"\"\u001b[39;00m\n\u001b[1;32m-> 1074\u001b[0m     \u001b[38;5;28;01mreturn\u001b[39;00m \u001b[38;5;28mself\u001b[39m\u001b[38;5;241m.\u001b[39mtk\u001b[38;5;241m.\u001b[39mcall(\u001b[38;5;28mself\u001b[39m\u001b[38;5;241m.\u001b[39m_w, \u001b[38;5;124m'\u001b[39m\u001b[38;5;124mget\u001b[39m\u001b[38;5;124m'\u001b[39m, x, y)\n",
      "\u001b[1;31mTclError\u001b[0m: invalid command name \".!frame.!canvas.!frame.!labelframe.!scale\""
     ]
    }
   ],
   "source": [
    "from posture_assessment import PostureAssessment\n",
    "assessment = PostureAssessment()\n",
    "assessment.run_assessment()\n"
   ]
  }
 ],
 "metadata": {
  "kernelspec": {
   "display_name": "Python 3 (ipykernel)",
   "language": "python",
   "name": "python3"
  },
  "language_info": {
   "codemirror_mode": {
    "name": "ipython",
    "version": 3
   },
   "file_extension": ".py",
   "mimetype": "text/x-python",
   "name": "python",
   "nbconvert_exporter": "python",
   "pygments_lexer": "ipython3",
   "version": "3.12.8"
  }
 },
 "nbformat": 4,
 "nbformat_minor": 5
}
